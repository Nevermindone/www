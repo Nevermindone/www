{
 "cells": [
  {
   "cell_type": "code",
   "execution_count": 56,
   "id": "deluxe-shoulder",
   "metadata": {},
   "outputs": [],
   "source": [
    "import pandas as pd\n",
    "import numpy as np\n",
    "from sklearn.model_selection import train_test_split\n",
    "from sklearn.ensemble import RandomForestClassifier\n",
    "from sklearn.ensemble import RandomForestRegressor\n",
    "from sklearn.metrics import accuracy_score\n",
    "from sklearn.preprocessing import OneHotEncoder\n",
    "from sklearn.model_selection import cross_val_score\n",
    "import xgboost as xgb\n",
    "from sklearn.metrics import r2_score\n",
    "from sklearn.model_selection import GridSearchCV\n",
    "pd.set_option('display.max_rows', 500)\n",
    "import warnings\n",
    "warnings.filterwarnings('ignore')"
   ]
  },
  {
   "cell_type": "code",
   "execution_count": 57,
   "id": "attempted-bishop",
   "metadata": {},
   "outputs": [],
   "source": [
    "def obj_handle(df):\n",
    "    for col in ['MSSubClass', 'YrSold', 'MoSold']:\n",
    "        df[col] = df[col].astype(object)\n",
    "    return df\n",
    "\n",
    "\n",
    "\n",
    "\n",
    "def most_common(lst):\n",
    "    return max(set(lst), key=lst.count)\n",
    "def na_handler(df):\n",
    "    df['PoolQC']=df['PoolQC'].fillna('No Pool')\n",
    "    df['MiscFeature']=df['MiscFeature'].fillna('noAdd')\n",
    "    df['Alley']=df['Alley'].fillna('NoAccess')\n",
    "    df['Fence']=df['Fence'].fillna('NoFence')\n",
    "    df['FireplaceQu']=df['FireplaceQu'].fillna('NoFireplace')\n",
    "    df['GarageCond']=df['GarageCond'].fillna('noG')\n",
    "    df['BsmtExposure']=df['BsmtExposure'].fillna('NoB')\n",
    "    df['MasVnrType']=df['MasVnrType'].fillna('noM')\n",
    "    df['Electrical']=df['Electrical'].fillna(most_common(df['Electrical'].tolist()))\n",
    "    return df\n",
    "\n",
    "\n",
    "\n",
    "\n",
    "def float_handle(dff):\n",
    "    dff['LotAreaAdditional']=dff['LotAreaAdditional'].fillna(0)\n",
    "    dff=dff.drop('YearReconstruction',axis=1)\n",
    "    dff=dff.drop('Variable01',axis=1)\n",
    "    dff=dff.drop('Variable02',axis=1)\n",
    "    dff=dff.drop('Variable03',axis=1)\n",
    "    dff=dff.drop('Variable04',axis=1)\n",
    "    dff=dff.drop('Variable05',axis=1)\n",
    "    dff=dff.drop('3rdFlrSF',axis=1)\n",
    "    dff['LotFrontage']=dff['LotFrontage'].fillna(dff['LotFrontage'].mean())\n",
    "    dff['GarageYrBlt']=dff['GarageYrBlt'].fillna(min(dff['GarageYrBlt']))\n",
    "    dff['MasVnrArea']=dff['MasVnrArea'].fillna(0)\n",
    "    return dff\n",
    "def years_to_age(dff):\n",
    "    dff['YrSold']=dff['YrSold'].apply(lambda x: 2010-x)\n",
    "\n",
    "    dff['YearBuilt']=dff['YearBuilt'].apply(lambda x: 2010-x)\n",
    "    dff['YearRemodAdd']=dff['YearRemodAdd'].apply(lambda x: 2010-x)\n",
    "    dff['GarageYrBlt']=dff['GarageYrBlt'].apply(lambda x: 2010-x)\n",
    "    return dff\n",
    "\n",
    "    "
   ]
  },
  {
   "cell_type": "code",
   "execution_count": 58,
   "id": "similar-terminal",
   "metadata": {},
   "outputs": [],
   "source": [
    "def make_model_data(df,trainn=True,regr_qual = RandomForestClassifier(),ohe = OneHotEncoder(sparse=False,handle_unknown='ignore'),\n",
    "      ohe1 = OneHotEncoder(sparse=False,handle_unknown='ignore')):\n",
    "    df=obj_handle(df)\n",
    "    df=float_handle(df)\n",
    "    df=na_handler(df)\n",
    "    df=years_to_age(df)\n",
    "    df['OverallQual']=df['OverallQual'].astype('str').apply(lambda x: ''.join([i for i in x if i not in '!\"#$%&\\'()*+,-./:;<=>?@[\\\\]^`{|}~']) )\n",
    "    df['OverallQual']=df['OverallQual'].astype('float')\n",
    "    popped=df.pop('OverallQual')\n",
    "    df_obj=df.select_dtypes(include=['object'])\n",
    "    \n",
    "    for col in ['GarageType', 'GarageQual', 'GarageFinish', 'BsmtFinType1',\n",
    "       'BsmtFinType2', 'BsmtCond', 'BsmtQual']:\n",
    "        df_obj[col] = df_obj[col].fillna(str(0))\n",
    "    if trainn==True:\n",
    "        array_hot_encoded = ohe.fit_transform(df_obj)\n",
    "        column_name = ohe.get_feature_names()\n",
    "\n",
    "        data_hot_encoded = pd.DataFrame(array_hot_encoded, index=df_obj.index,columns= column_name)\n",
    "\n",
    "    else:\n",
    "        array_hot_encoded = ohe.transform(df_obj)\n",
    "        column_name = ohe.get_feature_names()\n",
    "        data_hot_encoded = pd.DataFrame(array_hot_encoded, index=df_obj.index,columns= column_name)\n",
    "\n",
    "    \n",
    "    \n",
    "    df_ok=df.select_dtypes(include=['int64'])\n",
    "    df_1=pd.concat([df_ok,data_hot_encoded], axis=1)\n",
    "    try:\n",
    "        SalePrice=df_1.pop('SalePrice')\n",
    "        Y=SalePrice.values.tolist()\n",
    "    except:\n",
    "        Y=[0]\n",
    "    if trainn==True:\n",
    "        df_1['OverallQual']=popped\n",
    "        df_1['OverallQual']=df_1['OverallQual'].fillna(123)\n",
    "        df2=df_1.loc[df_1['OverallQual']!=123]\n",
    "        df3=df_1.loc[df_1['OverallQual']==123]\n",
    "\n",
    "        y=df2.pop('OverallQual')\n",
    "\n",
    "        regr_qual = RandomForestClassifier()\n",
    "        regr_qual.fit(df2, y)\n",
    "        df3.pop('OverallQual')\n",
    "        predictions=regr_qual.predict(df3)\n",
    "        df2['OverallQual']=y\n",
    "        df3['OverallQual']=predictions.tolist()\n",
    "        df_1=pd.concat([df2,df3],axis=0)\n",
    "        df_1.sort_index(inplace=True)\n",
    "        array_hot_encoded = ohe1.fit_transform(df_1['OverallQual'].values.reshape(-1, 1))\n",
    "        column_name = ohe1.get_feature_names()\n",
    "\n",
    "        data_hot_encoded = pd.DataFrame(array_hot_encoded, index=df_obj.index,columns= column_name)\n",
    "        df_1=pd.concat([df_1,data_hot_encoded], axis=1)\n",
    "        df_1.pop('OverallQual')\n",
    "        df_1['TotalArea'] = df_1['TotalBsmtSF'] + df_1['1stFlrSF'] + df_1['2ndFlrSF'] +  df_1['GrLivArea'] +df_1['GarageArea']\n",
    "        df_1['Bathrooms'] = df_1['FullBath'] + df_1['HalfBath']/2\n",
    "        df_1['Year average']= (df_1['YearRemodAdd']+df_1['YearBuilt'])/2\n",
    "        return df_1,Y,regr_qual,ohe,ohe1,df_obj\n",
    "    else:\n",
    "        df_1['OverallQual']=popped\n",
    "        df_1['OverallQual']=df_1['OverallQual'].fillna(123)\n",
    "        df2=df_1.loc[df_1['OverallQual']!=123]\n",
    "        df3=df_1.loc[df_1['OverallQual']==123]\n",
    "\n",
    "        y=df2.pop('OverallQual')\n",
    "\n",
    "        regr_qual = regr_qual\n",
    "        df3.pop('OverallQual')\n",
    "        predictions=regr_qual.predict(df3)\n",
    "        df2['OverallQual']=y\n",
    "        df3['OverallQual']=predictions.tolist()\n",
    "        df_1=pd.concat([df2,df3],axis=0)\n",
    "        array_hot_encoded = ohe1.transform(df_1['OverallQual'].values.reshape(-1, 1))\n",
    "        column_name = ohe1.get_feature_names()\n",
    "\n",
    "        data_hot_encoded = pd.DataFrame(array_hot_encoded, index=df_obj.index,columns= column_name)\n",
    "        df_1=pd.concat([df_1,data_hot_encoded], axis=1)\n",
    "        df_1.pop('OverallQual')\n",
    "        df_1.sort_index(inplace=True)\n",
    "        df_1['TotalArea'] = df_1['TotalBsmtSF'] + df_1['1stFlrSF'] + df_1['2ndFlrSF']+  df_1['GrLivArea'] +df_1['GarageArea']\n",
    "        df_1['Bathrooms'] = df_1['FullBath'] + df_1['HalfBath']/2\n",
    "        df_1['Year average']= (df_1['YearRemodAdd']+df_1['YearBuilt'])/2\n",
    "        return df_1"
   ]
  },
  {
   "cell_type": "code",
   "execution_count": 59,
   "id": "approximate-insert",
   "metadata": {},
   "outputs": [],
   "source": [
    "df=pd.read_csv(r'C:\\Users\\Администратор\\Desktop\\REAskills2021\\train.csv')\n",
    "df=df.drop('Unnamed: 0', axis=1)\n",
    "\n",
    "df,Y,regr_qual,ohe,ohe1,df_obj=make_model_data(df)"
   ]
  },
  {
   "cell_type": "code",
   "execution_count": 60,
   "id": "protected-encounter",
   "metadata": {},
   "outputs": [],
   "source": [
    "df_test=pd.read_csv(r'C:\\Users\\Администратор\\Desktop\\REAskills2021\\test.csv')\n",
    "df_test=df_test.drop('Unnamed: 0', axis=1)\n",
    "df_test=make_model_data(df=df_test,trainn=False,regr_qual=regr_qual,ohe=ohe,ohe1=ohe1)"
   ]
  },
  {
   "cell_type": "markdown",
   "id": "transsexual-practice",
   "metadata": {},
   "source": [
    "<h1> Пробуем фигню </h1>\n"
   ]
  },
  {
   "cell_type": "code",
   "execution_count": 61,
   "id": "convinced-nebraska",
   "metadata": {},
   "outputs": [],
   "source": [
    "# from sklearn.preprocessing import RobustScaler, MinMaxScaler\n",
    "\n",
    "# scaler = RobustScaler()\n"
   ]
  },
  {
   "cell_type": "code",
   "execution_count": 62,
   "id": "straight-reverse",
   "metadata": {},
   "outputs": [],
   "source": [
    "# X_train_scaled = scaler.fit_transform(df.values)\n",
    "# df = pd.DataFrame(X_train_scaled, index = df.index, columns= df.columns)\n",
    "\n",
    "# # # Scale the X_test set\n",
    "# # X_test_scaled = scaler.transform(test_df.values)\n",
    "# X_test_df = pd.DataFrame(X_test_scaled, index = test_df.index, columns= test_df.columns)"
   ]
  },
  {
   "cell_type": "code",
   "execution_count": 63,
   "id": "little-india",
   "metadata": {},
   "outputs": [],
   "source": [
    "# from sklearn.feature_selection import VarianceThreshold\n"
   ]
  },
  {
   "cell_type": "code",
   "execution_count": 64,
   "id": "rising-cancer",
   "metadata": {},
   "outputs": [],
   "source": [
    "# threshold_n=1\n",
    "# sel = VarianceThreshold(threshold=(threshold_n* (1 - threshold_n) ))\n",
    "# sel_var=sel.fit_transform(df)\n",
    "\n",
    "# # Create the new datasets\n",
    "# df = df[df.columns[sel.get_support(indices=True)]]\n",
    "# # X_test_df = X_test_df[X_test_df.columns[sel.get_support(indices= True)]]\n"
   ]
  },
  {
   "cell_type": "code",
   "execution_count": 65,
   "id": "medium-charge",
   "metadata": {},
   "outputs": [
    {
     "data": {
      "text/plain": [
       "<seaborn.axisgrid.FacetGrid at 0x1c0e1abb430>"
      ]
     },
     "execution_count": 65,
     "metadata": {},
     "output_type": "execute_result"
    },
    {
     "data": {
      "image/png": "[encoded data removed]",
      "text/plain": [
       "<Figure size 324x324 with 1 Axes>"
      ]
     },
     "metadata": {
      "needs_background": "light"
     },
     "output_type": "display_data"
    }
   ],
   "source": [
    "import seaborn as sns\n",
    "import matplotlib.pyplot as plt\n",
    "re_plot = sns.relplot(y=Y, x= 'TotalArea', legend=\"full\", data=df, height=4.5, aspect=3 / 3,);\n",
    "re_plot.set_xticklabels(rotation=90)"
   ]
  },
  {
   "cell_type": "markdown",
   "id": "european-cooler",
   "metadata": {},
   "source": [
    "<h1>ОБУЧЕНИЕ</h1>"
   ]
  },
  {
   "cell_type": "code",
   "execution_count": 66,
   "id": "national-third",
   "metadata": {},
   "outputs": [
    {
     "name": "stdout",
     "output_type": "stream",
     "text": [
      "Fitting 5 folds for each of 27 candidates, totalling 135 fits\n",
      "{'bootstrap': True, 'max_depth': 100, 'max_features': 'auto', 'min_samples_leaf': 3, 'min_samples_split': 6, 'n_estimators': 100}\n",
      "0.8645055916332334\n"
     ]
    }
   ],
   "source": [
    "# ПРИМЕНЯЕМ ЛОГ, НА ВЫХОДЕ ЭКСПОНЕНТУ!!!!\n",
    "Y=np.log(Y)\n",
    "param_grid = {\n",
    "    'bootstrap': [True],\n",
    "    'max_depth': [100],\n",
    "    'max_features': ['auto'],\n",
    "    'min_samples_leaf': [3, 4, 5],\n",
    "    'min_samples_split': [6,8, 10],\n",
    "    'n_estimators': [100, 120, 150]\n",
    "}\n",
    "# Create a based model\n",
    "rf = RandomForestRegressor()\n",
    "# Instantiate the grid search model\n",
    "grid = GridSearchCV(estimator = rf, param_grid = param_grid, scoring='r2', \n",
    "                          cv = 5, n_jobs = -1, verbose = 2)\n",
    "grid.fit(df, Y)\n",
    "print(grid.best_params_)\n",
    "best=grid.best_estimator_\n",
    "print(grid.best_score_)"
   ]
  },
  {
   "cell_type": "code",
   "execution_count": 67,
   "id": "ambient-toyota",
   "metadata": {},
   "outputs": [],
   "source": [
    "# 0.8469195966738869 до фич инжиниринг"
   ]
  },
  {
   "cell_type": "code",
   "execution_count": 92,
   "id": "impressive-reform",
   "metadata": {},
   "outputs": [
    {
     "ename": "ValueError",
     "evalue": "X has 336 features, but DecisionTreeRegressor is expecting 15 features as input.",
     "output_type": "error",
     "traceback": [
      "\u001b[1;31m---------------------------------------------------------------------------\u001b[0m",
      "\u001b[1;31mValueError\u001b[0m                                Traceback (most recent call last)",
      "\u001b[1;32m<ipython-input-92-7fe5a2099ef6>\u001b[0m in \u001b[0;36m<module>\u001b[1;34m\u001b[0m\n\u001b[0;32m     12\u001b[0m     \u001b[1;32mreturn\u001b[0m \u001b[0mpredictions\u001b[0m\u001b[1;33m\u001b[0m\u001b[1;33m\u001b[0m\u001b[0m\n\u001b[0;32m     13\u001b[0m \u001b[1;33m\u001b[0m\u001b[0m\n\u001b[1;32m---> 14\u001b[1;33m \u001b[0mpreds\u001b[0m\u001b[1;33m=\u001b[0m\u001b[0mmain_pred\u001b[0m\u001b[1;33m(\u001b[0m\u001b[0mbest\u001b[0m\u001b[1;33m,\u001b[0m\u001b[0mdf\u001b[0m\u001b[1;33m)\u001b[0m\u001b[1;33m\u001b[0m\u001b[1;33m\u001b[0m\u001b[0m\n\u001b[0m",
      "\u001b[1;32m<ipython-input-92-7fe5a2099ef6>\u001b[0m in \u001b[0;36mmain_pred\u001b[1;34m(regr, df)\u001b[0m\n\u001b[0;32m      6\u001b[0m \u001b[1;33m\u001b[0m\u001b[0m\n\u001b[0;32m      7\u001b[0m     \u001b[0mdf_test\u001b[0m\u001b[1;33m=\u001b[0m\u001b[0mmake_model_data\u001b[0m\u001b[1;33m(\u001b[0m\u001b[0mdf\u001b[0m\u001b[1;33m=\u001b[0m\u001b[0mdf_test\u001b[0m\u001b[1;33m,\u001b[0m\u001b[0mtrainn\u001b[0m\u001b[1;33m=\u001b[0m\u001b[1;32mFalse\u001b[0m\u001b[1;33m,\u001b[0m\u001b[0mregr_qual\u001b[0m\u001b[1;33m=\u001b[0m\u001b[0mregr_qual\u001b[0m\u001b[1;33m,\u001b[0m\u001b[0mohe\u001b[0m\u001b[1;33m=\u001b[0m\u001b[0mohe\u001b[0m\u001b[1;33m,\u001b[0m\u001b[0mohe1\u001b[0m\u001b[1;33m=\u001b[0m\u001b[0mohe1\u001b[0m\u001b[1;33m)\u001b[0m\u001b[1;33m\u001b[0m\u001b[1;33m\u001b[0m\u001b[0m\n\u001b[1;32m----> 8\u001b[1;33m     \u001b[0mpredictions\u001b[0m\u001b[1;33m=\u001b[0m\u001b[0mregr\u001b[0m\u001b[1;33m.\u001b[0m\u001b[0mpredict\u001b[0m\u001b[1;33m(\u001b[0m\u001b[0mdf_test\u001b[0m\u001b[1;33m)\u001b[0m\u001b[1;33m\u001b[0m\u001b[1;33m\u001b[0m\u001b[0m\n\u001b[0m\u001b[0;32m      9\u001b[0m     \u001b[1;32mfor\u001b[0m \u001b[0mi\u001b[0m \u001b[1;32min\u001b[0m \u001b[0mrange\u001b[0m\u001b[1;33m(\u001b[0m\u001b[0mlen\u001b[0m\u001b[1;33m(\u001b[0m\u001b[0mpredictions\u001b[0m\u001b[1;33m)\u001b[0m\u001b[1;33m)\u001b[0m\u001b[1;33m:\u001b[0m\u001b[1;33m\u001b[0m\u001b[1;33m\u001b[0m\u001b[0m\n\u001b[0;32m     10\u001b[0m         \u001b[0mpredictions\u001b[0m\u001b[1;33m[\u001b[0m\u001b[0mi\u001b[0m\u001b[1;33m]\u001b[0m\u001b[1;33m=\u001b[0m\u001b[0mmath\u001b[0m\u001b[1;33m.\u001b[0m\u001b[0mexp\u001b[0m\u001b[1;33m(\u001b[0m\u001b[0mpredictions\u001b[0m\u001b[1;33m[\u001b[0m\u001b[0mi\u001b[0m\u001b[1;33m]\u001b[0m\u001b[1;33m)\u001b[0m\u001b[1;33m\u001b[0m\u001b[1;33m\u001b[0m\u001b[0m\n",
      "\u001b[1;32mc:\\users\\администратор\\appdata\\local\\programs\\python\\python39\\lib\\site-packages\\sklearn\\ensemble\\_forest.py\u001b[0m in \u001b[0;36mpredict\u001b[1;34m(self, X)\u001b[0m\n\u001b[0;32m    782\u001b[0m         \u001b[0mcheck_is_fitted\u001b[0m\u001b[1;33m(\u001b[0m\u001b[0mself\u001b[0m\u001b[1;33m)\u001b[0m\u001b[1;33m\u001b[0m\u001b[1;33m\u001b[0m\u001b[0m\n\u001b[0;32m    783\u001b[0m         \u001b[1;31m# Check data\u001b[0m\u001b[1;33m\u001b[0m\u001b[1;33m\u001b[0m\u001b[1;33m\u001b[0m\u001b[0m\n\u001b[1;32m--> 784\u001b[1;33m         \u001b[0mX\u001b[0m \u001b[1;33m=\u001b[0m \u001b[0mself\u001b[0m\u001b[1;33m.\u001b[0m\u001b[0m_validate_X_predict\u001b[0m\u001b[1;33m(\u001b[0m\u001b[0mX\u001b[0m\u001b[1;33m)\u001b[0m\u001b[1;33m\u001b[0m\u001b[1;33m\u001b[0m\u001b[0m\n\u001b[0m\u001b[0;32m    785\u001b[0m \u001b[1;33m\u001b[0m\u001b[0m\n\u001b[0;32m    786\u001b[0m         \u001b[1;31m# Assign chunk of trees to jobs\u001b[0m\u001b[1;33m\u001b[0m\u001b[1;33m\u001b[0m\u001b[1;33m\u001b[0m\u001b[0m\n",
      "\u001b[1;32mc:\\users\\администратор\\appdata\\local\\programs\\python\\python39\\lib\\site-packages\\sklearn\\ensemble\\_forest.py\u001b[0m in \u001b[0;36m_validate_X_predict\u001b[1;34m(self, X)\u001b[0m\n\u001b[0;32m    420\u001b[0m         \u001b[0mcheck_is_fitted\u001b[0m\u001b[1;33m(\u001b[0m\u001b[0mself\u001b[0m\u001b[1;33m)\u001b[0m\u001b[1;33m\u001b[0m\u001b[1;33m\u001b[0m\u001b[0m\n\u001b[0;32m    421\u001b[0m \u001b[1;33m\u001b[0m\u001b[0m\n\u001b[1;32m--> 422\u001b[1;33m         \u001b[1;32mreturn\u001b[0m \u001b[0mself\u001b[0m\u001b[1;33m.\u001b[0m\u001b[0mestimators_\u001b[0m\u001b[1;33m[\u001b[0m\u001b[1;36m0\u001b[0m\u001b[1;33m]\u001b[0m\u001b[1;33m.\u001b[0m\u001b[0m_validate_X_predict\u001b[0m\u001b[1;33m(\u001b[0m\u001b[0mX\u001b[0m\u001b[1;33m,\u001b[0m \u001b[0mcheck_input\u001b[0m\u001b[1;33m=\u001b[0m\u001b[1;32mTrue\u001b[0m\u001b[1;33m)\u001b[0m\u001b[1;33m\u001b[0m\u001b[1;33m\u001b[0m\u001b[0m\n\u001b[0m\u001b[0;32m    423\u001b[0m \u001b[1;33m\u001b[0m\u001b[0m\n\u001b[0;32m    424\u001b[0m     \u001b[1;33m@\u001b[0m\u001b[0mproperty\u001b[0m\u001b[1;33m\u001b[0m\u001b[1;33m\u001b[0m\u001b[0m\n",
      "\u001b[1;32mc:\\users\\администратор\\appdata\\local\\programs\\python\\python39\\lib\\site-packages\\sklearn\\tree\\_classes.py\u001b[0m in \u001b[0;36m_validate_X_predict\u001b[1;34m(self, X, check_input)\u001b[0m\n\u001b[0;32m    400\u001b[0m         \u001b[1;34m\"\"\"Validate the training data on predict (probabilities).\"\"\"\u001b[0m\u001b[1;33m\u001b[0m\u001b[1;33m\u001b[0m\u001b[0m\n\u001b[0;32m    401\u001b[0m         \u001b[1;32mif\u001b[0m \u001b[0mcheck_input\u001b[0m\u001b[1;33m:\u001b[0m\u001b[1;33m\u001b[0m\u001b[1;33m\u001b[0m\u001b[0m\n\u001b[1;32m--> 402\u001b[1;33m             X = self._validate_data(X, dtype=DTYPE, accept_sparse=\"csr\",\n\u001b[0m\u001b[0;32m    403\u001b[0m                                     reset=False)\n\u001b[0;32m    404\u001b[0m             if issparse(X) and (X.indices.dtype != np.intc or\n",
      "\u001b[1;32mc:\\users\\администратор\\appdata\\local\\programs\\python\\python39\\lib\\site-packages\\sklearn\\base.py\u001b[0m in \u001b[0;36m_validate_data\u001b[1;34m(self, X, y, reset, validate_separately, **check_params)\u001b[0m\n\u001b[0;32m    435\u001b[0m \u001b[1;33m\u001b[0m\u001b[0m\n\u001b[0;32m    436\u001b[0m         \u001b[1;32mif\u001b[0m \u001b[0mcheck_params\u001b[0m\u001b[1;33m.\u001b[0m\u001b[0mget\u001b[0m\u001b[1;33m(\u001b[0m\u001b[1;34m'ensure_2d'\u001b[0m\u001b[1;33m,\u001b[0m \u001b[1;32mTrue\u001b[0m\u001b[1;33m)\u001b[0m\u001b[1;33m:\u001b[0m\u001b[1;33m\u001b[0m\u001b[1;33m\u001b[0m\u001b[0m\n\u001b[1;32m--> 437\u001b[1;33m             \u001b[0mself\u001b[0m\u001b[1;33m.\u001b[0m\u001b[0m_check_n_features\u001b[0m\u001b[1;33m(\u001b[0m\u001b[0mX\u001b[0m\u001b[1;33m,\u001b[0m \u001b[0mreset\u001b[0m\u001b[1;33m=\u001b[0m\u001b[0mreset\u001b[0m\u001b[1;33m)\u001b[0m\u001b[1;33m\u001b[0m\u001b[1;33m\u001b[0m\u001b[0m\n\u001b[0m\u001b[0;32m    438\u001b[0m \u001b[1;33m\u001b[0m\u001b[0m\n\u001b[0;32m    439\u001b[0m         \u001b[1;32mreturn\u001b[0m \u001b[0mout\u001b[0m\u001b[1;33m\u001b[0m\u001b[1;33m\u001b[0m\u001b[0m\n",
      "\u001b[1;32mc:\\users\\администратор\\appdata\\local\\programs\\python\\python39\\lib\\site-packages\\sklearn\\base.py\u001b[0m in \u001b[0;36m_check_n_features\u001b[1;34m(self, X, reset)\u001b[0m\n\u001b[0;32m    363\u001b[0m \u001b[1;33m\u001b[0m\u001b[0m\n\u001b[0;32m    364\u001b[0m         \u001b[1;32mif\u001b[0m \u001b[0mn_features\u001b[0m \u001b[1;33m!=\u001b[0m \u001b[0mself\u001b[0m\u001b[1;33m.\u001b[0m\u001b[0mn_features_in_\u001b[0m\u001b[1;33m:\u001b[0m\u001b[1;33m\u001b[0m\u001b[1;33m\u001b[0m\u001b[0m\n\u001b[1;32m--> 365\u001b[1;33m             raise ValueError(\n\u001b[0m\u001b[0;32m    366\u001b[0m                 \u001b[1;34mf\"X has {n_features} features, but {self.__class__.__name__} \"\u001b[0m\u001b[1;33m\u001b[0m\u001b[1;33m\u001b[0m\u001b[0m\n\u001b[0;32m    367\u001b[0m                 f\"is expecting {self.n_features_in_} features as input.\")\n",
      "\u001b[1;31mValueError\u001b[0m: X has 336 features, but DecisionTreeRegressor is expecting 15 features as input."
     ]
    }
   ],
   "source": [
    "# СУПЕРПРЕДИКТ\n",
    "import math\n",
    "def main_pred(regr,df):\n",
    "    df_test=pd.read_csv(r'C:\\Users\\Администратор\\Desktop\\REAskills2021\\train.csv')\n",
    "    df_test=df_test.drop('Unnamed: 0', axis=1)\n",
    "\n",
    "    df_test=make_model_data(df=df_test,trainn=False,regr_qual=regr_qual,ohe=ohe,ohe1=ohe1)\n",
    "    predictions=regr.predict(df_test)\n",
    "    for i in range(len(predictions)):\n",
    "        predictions[i]=math.exp(predictions[i])\n",
    "#     predictions.to_csv('preds.csv')\n",
    "    return predictions\n",
    "\n",
    "preds=main_pred(best,df)"
   ]
  },
  {
   "cell_type": "code",
   "execution_count": 69,
   "id": "correct-offset",
   "metadata": {},
   "outputs": [
    {
     "data": {
      "text/plain": [
       "Text(0.5, 0, 'Random Forest Feature Importance')"
      ]
     },
     "execution_count": 69,
     "metadata": {},
     "output_type": "execute_result"
    },
    {
     "data": {
      "image/png": "[encoded data removed]",
      "text/plain": [
       "<Figure size 864x576 with 1 Axes>"
      ]
     },
     "metadata": {
      "needs_background": "light"
     },
     "output_type": "display_data"
    }
   ],
   "source": [
    "from matplotlib import pyplot as plt\n",
    "\n",
    "plt.rcParams.update({'figure.figsize': (12.0, 8.0)})\n",
    "plt.rcParams.update({'font.size': 14})\n",
    "sorted_idx = best.feature_importances_.argsort()\n",
    "plt.barh(df.columns.values[sorted_idx][-10:], best.feature_importances_[sorted_idx][-10:])\n",
    "plt.xlabel(\"Random Forest Feature Importance\")\n",
    "\n"
   ]
  },
  {
   "cell_type": "code",
   "execution_count": 75,
   "id": "drawn-bishop",
   "metadata": {},
   "outputs": [],
   "source": [
    "# mask=df.columns.values[sorted_idx][-10:].tolist()\n",
    "mask=['LotArea','OverallCond','YearRemodAdd','BsmtFinSF1','YearBuilt','Year average','TotalArea']\n",
    "for i in ['x19_Ex', 'x19_Fa', 'x19_Gd','x19_TA']:\n",
    "    mask.append(i)\n",
    "\n",
    "for i in ['x22_Ex', 'x22_Fa', 'x22_Gd', 'x22_TA']:\n",
    "    mask.append(i)\n"
   ]
  },
  {
   "cell_type": "markdown",
   "id": "dedicated-princess",
   "metadata": {},
   "source": [
    "<h1>Модель для Фласка</h1>"
   ]
  },
  {
   "cell_type": "code",
   "execution_count": 76,
   "id": "forbidden-maple",
   "metadata": {},
   "outputs": [],
   "source": [
    "df_small=df[mask]"
   ]
  },
  {
   "cell_type": "code",
   "execution_count": 77,
   "id": "listed-convertible",
   "metadata": {},
   "outputs": [
    {
     "name": "stdout",
     "output_type": "stream",
     "text": [
      "Fitting 5 folds for each of 27 candidates, totalling 135 fits\n",
      "{'bootstrap': True, 'max_depth': 100, 'max_features': 'auto', 'min_samples_leaf': 4, 'min_samples_split': 8, 'n_estimators': 150}\n",
      "0.8564723856719352\n"
     ]
    }
   ],
   "source": [
    "param_grid = {\n",
    "    'bootstrap': [True],\n",
    "    'max_depth': [100],\n",
    "    'max_features': ['auto'],\n",
    "    'min_samples_leaf': [3, 4, 5],\n",
    "    'min_samples_split': [6,8, 10],\n",
    "    'n_estimators': [100, 120, 150]\n",
    "}\n",
    "# Create a based model\n",
    "rf = RandomForestRegressor()\n",
    "# Instantiate the grid search model\n",
    "grid = GridSearchCV(estimator = rf, param_grid = param_grid,scoring='r2',\n",
    "                          cv = 5, n_jobs = -1, verbose = 2)\n",
    "grid.fit(df_small, Y)\n",
    "print(grid.best_params_)\n",
    "best=grid.best_estimator_\n",
    "print(grid.best_score_)"
   ]
  },
  {
   "cell_type": "code",
   "execution_count": 81,
   "id": "republican-trick",
   "metadata": {},
   "outputs": [],
   "source": [
    "rf = RandomForestRegressor(bootstrap=True, max_depth=100,\n",
    "                            max_features='auto', min_samples_leaf= 4,\n",
    "                            min_samples_split= 8, n_estimators= 150)\n",
    "rf.fit(df_small, Y)\n",
    "\n",
    "import pickle\n",
    "pickle.dump(rf, open('rf_mdl', 'wb'))\n",
    "# loaded_model = pickle.load(open(filename, 'rb'))"
   ]
  },
  {
   "cell_type": "code",
   "execution_count": 82,
   "id": "transparent-proof",
   "metadata": {},
   "outputs": [
    {
     "data": {
      "text/html": [
       "<div>\n",
       "<style scoped>\n",
       "    .dataframe tbody tr th:only-of-type {\n",
       "        vertical-align: middle;\n",
       "    }\n",
       "\n",
       "    .dataframe tbody tr th {\n",
       "        vertical-align: top;\n",
       "    }\n",
       "\n",
       "    .dataframe thead th {\n",
       "        text-align: right;\n",
       "    }\n",
       "</style>\n",
       "<table border=\"1\" class=\"dataframe\">\n",
       "  <thead>\n",
       "    <tr style=\"text-align: right;\">\n",
       "      <th></th>\n",
       "      <th>LotArea</th>\n",
       "      <th>OverallCond</th>\n",
       "      <th>YearRemodAdd</th>\n",
       "      <th>BsmtFinSF1</th>\n",
       "      <th>YearBuilt</th>\n",
       "      <th>Year average</th>\n",
       "      <th>TotalArea</th>\n",
       "      <th>x19_Ex</th>\n",
       "      <th>x19_Fa</th>\n",
       "      <th>x19_Gd</th>\n",
       "      <th>x19_TA</th>\n",
       "      <th>x22_Ex</th>\n",
       "      <th>x22_Fa</th>\n",
       "      <th>x22_Gd</th>\n",
       "      <th>x22_TA</th>\n",
       "    </tr>\n",
       "  </thead>\n",
       "  <tbody>\n",
       "    <tr>\n",
       "      <th>0</th>\n",
       "      <td>10125</td>\n",
       "      <td>5</td>\n",
       "      <td>33</td>\n",
       "      <td>0</td>\n",
       "      <td>33</td>\n",
       "      <td>33.0</td>\n",
       "      <td>4007</td>\n",
       "      <td>0.0</td>\n",
       "      <td>0.0</td>\n",
       "      <td>0.0</td>\n",
       "      <td>1.0</td>\n",
       "      <td>0.0</td>\n",
       "      <td>0.0</td>\n",
       "      <td>0.0</td>\n",
       "      <td>0.0</td>\n",
       "    </tr>\n",
       "    <tr>\n",
       "      <th>1</th>\n",
       "      <td>13350</td>\n",
       "      <td>5</td>\n",
       "      <td>36</td>\n",
       "      <td>762</td>\n",
       "      <td>36</td>\n",
       "      <td>36.0</td>\n",
       "      <td>3092</td>\n",
       "      <td>0.0</td>\n",
       "      <td>0.0</td>\n",
       "      <td>0.0</td>\n",
       "      <td>1.0</td>\n",
       "      <td>0.0</td>\n",
       "      <td>0.0</td>\n",
       "      <td>0.0</td>\n",
       "      <td>1.0</td>\n",
       "    </tr>\n",
       "    <tr>\n",
       "      <th>2</th>\n",
       "      <td>6240</td>\n",
       "      <td>5</td>\n",
       "      <td>4</td>\n",
       "      <td>863</td>\n",
       "      <td>4</td>\n",
       "      <td>4.0</td>\n",
       "      <td>4522</td>\n",
       "      <td>0.0</td>\n",
       "      <td>0.0</td>\n",
       "      <td>1.0</td>\n",
       "      <td>0.0</td>\n",
       "      <td>0.0</td>\n",
       "      <td>0.0</td>\n",
       "      <td>1.0</td>\n",
       "      <td>0.0</td>\n",
       "    </tr>\n",
       "    <tr>\n",
       "      <th>3</th>\n",
       "      <td>12984</td>\n",
       "      <td>6</td>\n",
       "      <td>33</td>\n",
       "      <td>1283</td>\n",
       "      <td>33</td>\n",
       "      <td>33.0</td>\n",
       "      <td>5345</td>\n",
       "      <td>0.0</td>\n",
       "      <td>0.0</td>\n",
       "      <td>0.0</td>\n",
       "      <td>1.0</td>\n",
       "      <td>0.0</td>\n",
       "      <td>0.0</td>\n",
       "      <td>1.0</td>\n",
       "      <td>0.0</td>\n",
       "    </tr>\n",
       "    <tr>\n",
       "      <th>4</th>\n",
       "      <td>5720</td>\n",
       "      <td>6</td>\n",
       "      <td>60</td>\n",
       "      <td>0</td>\n",
       "      <td>69</td>\n",
       "      <td>64.5</td>\n",
       "      <td>3138</td>\n",
       "      <td>0.0</td>\n",
       "      <td>0.0</td>\n",
       "      <td>0.0</td>\n",
       "      <td>1.0</td>\n",
       "      <td>0.0</td>\n",
       "      <td>0.0</td>\n",
       "      <td>0.0</td>\n",
       "      <td>1.0</td>\n",
       "    </tr>\n",
       "    <tr>\n",
       "      <th>...</th>\n",
       "      <td>...</td>\n",
       "      <td>...</td>\n",
       "      <td>...</td>\n",
       "      <td>...</td>\n",
       "      <td>...</td>\n",
       "      <td>...</td>\n",
       "      <td>...</td>\n",
       "      <td>...</td>\n",
       "      <td>...</td>\n",
       "      <td>...</td>\n",
       "      <td>...</td>\n",
       "      <td>...</td>\n",
       "      <td>...</td>\n",
       "      <td>...</td>\n",
       "      <td>...</td>\n",
       "    </tr>\n",
       "    <tr>\n",
       "      <th>1236</th>\n",
       "      <td>9317</td>\n",
       "      <td>5</td>\n",
       "      <td>4</td>\n",
       "      <td>24</td>\n",
       "      <td>4</td>\n",
       "      <td>4.0</td>\n",
       "      <td>4382</td>\n",
       "      <td>0.0</td>\n",
       "      <td>0.0</td>\n",
       "      <td>1.0</td>\n",
       "      <td>0.0</td>\n",
       "      <td>0.0</td>\n",
       "      <td>0.0</td>\n",
       "      <td>1.0</td>\n",
       "      <td>0.0</td>\n",
       "    </tr>\n",
       "    <tr>\n",
       "      <th>1237</th>\n",
       "      <td>7804</td>\n",
       "      <td>3</td>\n",
       "      <td>60</td>\n",
       "      <td>622</td>\n",
       "      <td>82</td>\n",
       "      <td>71.0</td>\n",
       "      <td>5660</td>\n",
       "      <td>0.0</td>\n",
       "      <td>0.0</td>\n",
       "      <td>0.0</td>\n",
       "      <td>1.0</td>\n",
       "      <td>0.0</td>\n",
       "      <td>0.0</td>\n",
       "      <td>0.0</td>\n",
       "      <td>1.0</td>\n",
       "    </tr>\n",
       "    <tr>\n",
       "      <th>1238</th>\n",
       "      <td>8172</td>\n",
       "      <td>7</td>\n",
       "      <td>20</td>\n",
       "      <td>167</td>\n",
       "      <td>55</td>\n",
       "      <td>37.5</td>\n",
       "      <td>3164</td>\n",
       "      <td>0.0</td>\n",
       "      <td>0.0</td>\n",
       "      <td>0.0</td>\n",
       "      <td>1.0</td>\n",
       "      <td>0.0</td>\n",
       "      <td>0.0</td>\n",
       "      <td>0.0</td>\n",
       "      <td>1.0</td>\n",
       "    </tr>\n",
       "    <tr>\n",
       "      <th>1239</th>\n",
       "      <td>7642</td>\n",
       "      <td>8</td>\n",
       "      <td>12</td>\n",
       "      <td>0</td>\n",
       "      <td>92</td>\n",
       "      <td>52.0</td>\n",
       "      <td>3980</td>\n",
       "      <td>0.0</td>\n",
       "      <td>0.0</td>\n",
       "      <td>1.0</td>\n",
       "      <td>0.0</td>\n",
       "      <td>0.0</td>\n",
       "      <td>0.0</td>\n",
       "      <td>0.0</td>\n",
       "      <td>1.0</td>\n",
       "    </tr>\n",
       "    <tr>\n",
       "      <th>1240</th>\n",
       "      <td>3684</td>\n",
       "      <td>5</td>\n",
       "      <td>3</td>\n",
       "      <td>0</td>\n",
       "      <td>3</td>\n",
       "      <td>3.0</td>\n",
       "      <td>5143</td>\n",
       "      <td>0.0</td>\n",
       "      <td>0.0</td>\n",
       "      <td>1.0</td>\n",
       "      <td>0.0</td>\n",
       "      <td>0.0</td>\n",
       "      <td>0.0</td>\n",
       "      <td>1.0</td>\n",
       "      <td>0.0</td>\n",
       "    </tr>\n",
       "  </tbody>\n",
       "</table>\n",
       "<p>1241 rows × 15 columns</p>\n",
       "</div>"
      ],
      "text/plain": [
       "      LotArea  OverallCond  YearRemodAdd  BsmtFinSF1  YearBuilt  Year average  \\\n",
       "0       10125            5            33           0         33          33.0   \n",
       "1       13350            5            36         762         36          36.0   \n",
       "2        6240            5             4         863          4           4.0   \n",
       "3       12984            6            33        1283         33          33.0   \n",
       "4        5720            6            60           0         69          64.5   \n",
       "...       ...          ...           ...         ...        ...           ...   \n",
       "1236     9317            5             4          24          4           4.0   \n",
       "1237     7804            3            60         622         82          71.0   \n",
       "1238     8172            7            20         167         55          37.5   \n",
       "1239     7642            8            12           0         92          52.0   \n",
       "1240     3684            5             3           0          3           3.0   \n",
       "\n",
       "      TotalArea  x19_Ex  x19_Fa  x19_Gd  x19_TA  x22_Ex  x22_Fa  x22_Gd  \\\n",
       "0          4007     0.0     0.0     0.0     1.0     0.0     0.0     0.0   \n",
       "1          3092     0.0     0.0     0.0     1.0     0.0     0.0     0.0   \n",
       "2          4522     0.0     0.0     1.0     0.0     0.0     0.0     1.0   \n",
       "3          5345     0.0     0.0     0.0     1.0     0.0     0.0     1.0   \n",
       "4          3138     0.0     0.0     0.0     1.0     0.0     0.0     0.0   \n",
       "...         ...     ...     ...     ...     ...     ...     ...     ...   \n",
       "1236       4382     0.0     0.0     1.0     0.0     0.0     0.0     1.0   \n",
       "1237       5660     0.0     0.0     0.0     1.0     0.0     0.0     0.0   \n",
       "1238       3164     0.0     0.0     0.0     1.0     0.0     0.0     0.0   \n",
       "1239       3980     0.0     0.0     1.0     0.0     0.0     0.0     0.0   \n",
       "1240       5143     0.0     0.0     1.0     0.0     0.0     0.0     1.0   \n",
       "\n",
       "      x22_TA  \n",
       "0        0.0  \n",
       "1        1.0  \n",
       "2        0.0  \n",
       "3        0.0  \n",
       "4        1.0  \n",
       "...      ...  \n",
       "1236     0.0  \n",
       "1237     1.0  \n",
       "1238     1.0  \n",
       "1239     1.0  \n",
       "1240     0.0  \n",
       "\n",
       "[1241 rows x 15 columns]"
      ]
     },
     "execution_count": 82,
     "metadata": {},
     "output_type": "execute_result"
    }
   ],
   "source": [
    "df_small"
   ]
  },
  {
   "cell_type": "code",
   "execution_count": 87,
   "id": "elegant-robert",
   "metadata": {},
   "outputs": [
    {
     "data": {
      "text/plain": [
       "0        0\n",
       "1       TA\n",
       "2       Gd\n",
       "3       Gd\n",
       "4       TA\n",
       "        ..\n",
       "1236    Gd\n",
       "1237    TA\n",
       "1238    TA\n",
       "1239    TA\n",
       "1240    Gd\n",
       "Name: BsmtQual, Length: 1241, dtype: object"
      ]
     },
     "execution_count": 87,
     "metadata": {},
     "output_type": "execute_result"
    }
   ],
   "source": [
    "df_obj.iloc[:,22]"
   ]
  },
  {
   "cell_type": "code",
   "execution_count": 91,
   "id": "arranged-expense",
   "metadata": {},
   "outputs": [],
   "source": [
    "df=pd.DataFrame([123, '10', 1887, 23, 1887, 123.0, 123, '0', '0', '1', '0', '0', '1', '0', '0']).T"
   ]
  },
  {
   "cell_type": "code",
   "execution_count": 95,
   "id": "looking-marriage",
   "metadata": {},
   "outputs": [
    {
     "data": {
      "text/plain": [
       "11.052714376881813"
      ]
     },
     "execution_count": 95,
     "metadata": {},
     "output_type": "execute_result"
    }
   ],
   "source": [
    "rf.predict(df)[0]"
   ]
  },
  {
   "cell_type": "code",
   "execution_count": null,
   "id": "silent-visitor",
   "metadata": {},
   "outputs": [],
   "source": []
  }
 ],
 "metadata": {
  "kernelspec": {
   "display_name": "Python 3",
   "language": "python",
   "name": "python3"
  },
  "language_info": {
   "codemirror_mode": {
    "name": "ipython",
    "version": 3
   },
   "file_extension": ".py",
   "mimetype": "text/x-python",
   "name": "python",
   "nbconvert_exporter": "python",
   "pygments_lexer": "ipython3",
   "version": "3.9.2"
  }
 },
 "nbformat": 4,
 "nbformat_minor": 5
}
